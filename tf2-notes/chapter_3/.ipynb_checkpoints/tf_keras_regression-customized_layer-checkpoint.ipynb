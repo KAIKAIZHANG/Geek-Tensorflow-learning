{
 "cells": [
  {
   "cell_type": "code",
   "execution_count": 10,
   "metadata": {},
   "outputs": [
    {
     "name": "stdout",
     "output_type": "stream",
     "text": [
      "2.2.0\n",
      "sys.version_info(major=3, minor=6, micro=4, releaselevel='final', serial=0)\n",
      "matplotlib 2.1.2\n",
      "numpy 1.19.1\n",
      "pandas 0.22.0\n",
      "sklearn 0.19.1\n",
      "tensorflow 2.2.0\n",
      "tensorflow.keras 2.3.0-tf\n"
     ]
    }
   ],
   "source": [
    "import matplotlib as mpl\n",
    "import matplotlib.pyplot as plt\n",
    "%matplotlib inline\n",
    "import numpy as np\n",
    "import sklearn\n",
    "import pandas as pd\n",
    "import os\n",
    "import sys\n",
    "import time\n",
    "import pickle\n",
    "import tensorflow as tf\n",
    "\n",
    "from tensorflow import keras\n",
    "\n",
    "print(tf.__version__)\n",
    "print(sys.version_info)\n",
    "for module in mpl, np, pd, sklearn, tf, keras:\n",
    "    print(module.__name__, module.__version__)"
   ]
  },
  {
   "cell_type": "code",
   "execution_count": 11,
   "metadata": {},
   "outputs": [
    {
     "data": {
      "text/plain": [
       "<tf.Tensor: shape=(10, 100), dtype=float32, numpy=\n",
       "array([[0., 0., 0., 0., 0., 0., 0., 0., 0., 0., 0., 0., 0., 0., 0., 0.,\n",
       "        0., 0., 0., 0., 0., 0., 0., 0., 0., 0., 0., 0., 0., 0., 0., 0.,\n",
       "        0., 0., 0., 0., 0., 0., 0., 0., 0., 0., 0., 0., 0., 0., 0., 0.,\n",
       "        0., 0., 0., 0., 0., 0., 0., 0., 0., 0., 0., 0., 0., 0., 0., 0.,\n",
       "        0., 0., 0., 0., 0., 0., 0., 0., 0., 0., 0., 0., 0., 0., 0., 0.,\n",
       "        0., 0., 0., 0., 0., 0., 0., 0., 0., 0., 0., 0., 0., 0., 0., 0.,\n",
       "        0., 0., 0., 0.],\n",
       "       [0., 0., 0., 0., 0., 0., 0., 0., 0., 0., 0., 0., 0., 0., 0., 0.,\n",
       "        0., 0., 0., 0., 0., 0., 0., 0., 0., 0., 0., 0., 0., 0., 0., 0.,\n",
       "        0., 0., 0., 0., 0., 0., 0., 0., 0., 0., 0., 0., 0., 0., 0., 0.,\n",
       "        0., 0., 0., 0., 0., 0., 0., 0., 0., 0., 0., 0., 0., 0., 0., 0.,\n",
       "        0., 0., 0., 0., 0., 0., 0., 0., 0., 0., 0., 0., 0., 0., 0., 0.,\n",
       "        0., 0., 0., 0., 0., 0., 0., 0., 0., 0., 0., 0., 0., 0., 0., 0.,\n",
       "        0., 0., 0., 0.],\n",
       "       [0., 0., 0., 0., 0., 0., 0., 0., 0., 0., 0., 0., 0., 0., 0., 0.,\n",
       "        0., 0., 0., 0., 0., 0., 0., 0., 0., 0., 0., 0., 0., 0., 0., 0.,\n",
       "        0., 0., 0., 0., 0., 0., 0., 0., 0., 0., 0., 0., 0., 0., 0., 0.,\n",
       "        0., 0., 0., 0., 0., 0., 0., 0., 0., 0., 0., 0., 0., 0., 0., 0.,\n",
       "        0., 0., 0., 0., 0., 0., 0., 0., 0., 0., 0., 0., 0., 0., 0., 0.,\n",
       "        0., 0., 0., 0., 0., 0., 0., 0., 0., 0., 0., 0., 0., 0., 0., 0.,\n",
       "        0., 0., 0., 0.],\n",
       "       [0., 0., 0., 0., 0., 0., 0., 0., 0., 0., 0., 0., 0., 0., 0., 0.,\n",
       "        0., 0., 0., 0., 0., 0., 0., 0., 0., 0., 0., 0., 0., 0., 0., 0.,\n",
       "        0., 0., 0., 0., 0., 0., 0., 0., 0., 0., 0., 0., 0., 0., 0., 0.,\n",
       "        0., 0., 0., 0., 0., 0., 0., 0., 0., 0., 0., 0., 0., 0., 0., 0.,\n",
       "        0., 0., 0., 0., 0., 0., 0., 0., 0., 0., 0., 0., 0., 0., 0., 0.,\n",
       "        0., 0., 0., 0., 0., 0., 0., 0., 0., 0., 0., 0., 0., 0., 0., 0.,\n",
       "        0., 0., 0., 0.],\n",
       "       [0., 0., 0., 0., 0., 0., 0., 0., 0., 0., 0., 0., 0., 0., 0., 0.,\n",
       "        0., 0., 0., 0., 0., 0., 0., 0., 0., 0., 0., 0., 0., 0., 0., 0.,\n",
       "        0., 0., 0., 0., 0., 0., 0., 0., 0., 0., 0., 0., 0., 0., 0., 0.,\n",
       "        0., 0., 0., 0., 0., 0., 0., 0., 0., 0., 0., 0., 0., 0., 0., 0.,\n",
       "        0., 0., 0., 0., 0., 0., 0., 0., 0., 0., 0., 0., 0., 0., 0., 0.,\n",
       "        0., 0., 0., 0., 0., 0., 0., 0., 0., 0., 0., 0., 0., 0., 0., 0.,\n",
       "        0., 0., 0., 0.],\n",
       "       [0., 0., 0., 0., 0., 0., 0., 0., 0., 0., 0., 0., 0., 0., 0., 0.,\n",
       "        0., 0., 0., 0., 0., 0., 0., 0., 0., 0., 0., 0., 0., 0., 0., 0.,\n",
       "        0., 0., 0., 0., 0., 0., 0., 0., 0., 0., 0., 0., 0., 0., 0., 0.,\n",
       "        0., 0., 0., 0., 0., 0., 0., 0., 0., 0., 0., 0., 0., 0., 0., 0.,\n",
       "        0., 0., 0., 0., 0., 0., 0., 0., 0., 0., 0., 0., 0., 0., 0., 0.,\n",
       "        0., 0., 0., 0., 0., 0., 0., 0., 0., 0., 0., 0., 0., 0., 0., 0.,\n",
       "        0., 0., 0., 0.],\n",
       "       [0., 0., 0., 0., 0., 0., 0., 0., 0., 0., 0., 0., 0., 0., 0., 0.,\n",
       "        0., 0., 0., 0., 0., 0., 0., 0., 0., 0., 0., 0., 0., 0., 0., 0.,\n",
       "        0., 0., 0., 0., 0., 0., 0., 0., 0., 0., 0., 0., 0., 0., 0., 0.,\n",
       "        0., 0., 0., 0., 0., 0., 0., 0., 0., 0., 0., 0., 0., 0., 0., 0.,\n",
       "        0., 0., 0., 0., 0., 0., 0., 0., 0., 0., 0., 0., 0., 0., 0., 0.,\n",
       "        0., 0., 0., 0., 0., 0., 0., 0., 0., 0., 0., 0., 0., 0., 0., 0.,\n",
       "        0., 0., 0., 0.],\n",
       "       [0., 0., 0., 0., 0., 0., 0., 0., 0., 0., 0., 0., 0., 0., 0., 0.,\n",
       "        0., 0., 0., 0., 0., 0., 0., 0., 0., 0., 0., 0., 0., 0., 0., 0.,\n",
       "        0., 0., 0., 0., 0., 0., 0., 0., 0., 0., 0., 0., 0., 0., 0., 0.,\n",
       "        0., 0., 0., 0., 0., 0., 0., 0., 0., 0., 0., 0., 0., 0., 0., 0.,\n",
       "        0., 0., 0., 0., 0., 0., 0., 0., 0., 0., 0., 0., 0., 0., 0., 0.,\n",
       "        0., 0., 0., 0., 0., 0., 0., 0., 0., 0., 0., 0., 0., 0., 0., 0.,\n",
       "        0., 0., 0., 0.],\n",
       "       [0., 0., 0., 0., 0., 0., 0., 0., 0., 0., 0., 0., 0., 0., 0., 0.,\n",
       "        0., 0., 0., 0., 0., 0., 0., 0., 0., 0., 0., 0., 0., 0., 0., 0.,\n",
       "        0., 0., 0., 0., 0., 0., 0., 0., 0., 0., 0., 0., 0., 0., 0., 0.,\n",
       "        0., 0., 0., 0., 0., 0., 0., 0., 0., 0., 0., 0., 0., 0., 0., 0.,\n",
       "        0., 0., 0., 0., 0., 0., 0., 0., 0., 0., 0., 0., 0., 0., 0., 0.,\n",
       "        0., 0., 0., 0., 0., 0., 0., 0., 0., 0., 0., 0., 0., 0., 0., 0.,\n",
       "        0., 0., 0., 0.],\n",
       "       [0., 0., 0., 0., 0., 0., 0., 0., 0., 0., 0., 0., 0., 0., 0., 0.,\n",
       "        0., 0., 0., 0., 0., 0., 0., 0., 0., 0., 0., 0., 0., 0., 0., 0.,\n",
       "        0., 0., 0., 0., 0., 0., 0., 0., 0., 0., 0., 0., 0., 0., 0., 0.,\n",
       "        0., 0., 0., 0., 0., 0., 0., 0., 0., 0., 0., 0., 0., 0., 0., 0.,\n",
       "        0., 0., 0., 0., 0., 0., 0., 0., 0., 0., 0., 0., 0., 0., 0., 0.,\n",
       "        0., 0., 0., 0., 0., 0., 0., 0., 0., 0., 0., 0., 0., 0., 0., 0.,\n",
       "        0., 0., 0., 0.]], dtype=float32)>"
      ]
     },
     "execution_count": 11,
     "metadata": {},
     "output_type": "execute_result"
    }
   ],
   "source": [
    "layer = tf.keras.layers.Dense(100)\n",
    "layer = tf.keras.layers.Dense(100, input_shape=(None, 5))\n",
    "# 在tf2中通过函数的方式进行调用\n",
    "layer(tf.zeros([10, 5]))"
   ]
  },
  {
   "cell_type": "code",
   "execution_count": 12,
   "metadata": {},
   "outputs": [
    {
     "data": {
      "text/plain": [
       "[<tf.Variable 'dense_1/kernel:0' shape=(5, 100) dtype=float32, numpy=\n",
       " array([[-0.14052328,  0.21039413, -0.07136445,  0.23690905, -0.20808123,\n",
       "          0.2108586 , -0.1317657 , -0.15734816, -0.21076417,  0.15289576,\n",
       "         -0.10858558, -0.04585053, -0.02931854,  0.05290775,  0.01751621,\n",
       "          0.00520848, -0.18644808, -0.01128842,  0.03527178,  0.19165148,\n",
       "          0.01816486, -0.11517179, -0.08972639, -0.06692237,  0.17025597,\n",
       "         -0.16553082, -0.00428188,  0.08202533,  0.00392847, -0.17974532,\n",
       "         -0.21739274,  0.05797727,  0.07851638, -0.0876776 , -0.00194044,\n",
       "          0.21488716, -0.06450062, -0.17486517,  0.02227716, -0.04951222,\n",
       "         -0.11257149,  0.21043386,  0.00194888,  0.02711661, -0.13991004,\n",
       "          0.0562778 , -0.00420277, -0.15269993,  0.04333891, -0.09460925,\n",
       "          0.08064725,  0.16324346,  0.19116412,  0.12178703, -0.18129148,\n",
       "         -0.146308  , -0.19546095,  0.14760084, -0.04264902,  0.16953959,\n",
       "          0.22244419, -0.15400296,  0.0637057 ,  0.02636389,  0.17349727,\n",
       "          0.00371405, -0.11831233, -0.12829703,  0.02620541,  0.23715465,\n",
       "          0.2388178 , -0.19077606,  0.08673538, -0.19541341,  0.22857653,\n",
       "         -0.202292  ,  0.21081705,  0.06244026, -0.18375209, -0.22833179,\n",
       "          0.0966789 , -0.08710943, -0.22644469,  0.00833334, -0.17849101,\n",
       "         -0.08273934,  0.09685539,  0.04118527, -0.01874407, -0.02209412,\n",
       "         -0.0122589 ,  0.20254187, -0.09284098,  0.09827577,  0.12897013,\n",
       "          0.1828418 ,  0.06349756,  0.11258225,  0.08185269, -0.17729421],\n",
       "        [-0.202748  ,  0.17737462,  0.10262872, -0.22717187, -0.09062202,\n",
       "         -0.21193543,  0.03916602, -0.03811409, -0.23547569, -0.08126128,\n",
       "         -0.11234528,  0.14742593, -0.10627787, -0.19860542, -0.07864997,\n",
       "          0.22941898, -0.02565281,  0.09391041,  0.18169744, -0.04250847,\n",
       "          0.11259161,  0.16865613,  0.2249129 , -0.06872961, -0.10616548,\n",
       "          0.13156278, -0.20648023,  0.07549791, -0.07214788, -0.0098478 ,\n",
       "         -0.10886626,  0.21845953,  0.00454929,  0.11997135, -0.21416016,\n",
       "          0.05621453,  0.06135394,  0.05733068, -0.09501025,  0.13632415,\n",
       "          0.00874557, -0.159194  ,  0.1262495 ,  0.17916779, -0.15312979,\n",
       "         -0.11856093,  0.14309348,  0.04230382, -0.21426764,  0.22441511,\n",
       "         -0.18172672,  0.20346116, -0.23281206,  0.03393097,  0.07449622,\n",
       "          0.00369291,  0.01853667, -0.18653333,  0.03369783,  0.23198213,\n",
       "         -0.02140769,  0.07112731,  0.05036642, -0.08034267, -0.08425142,\n",
       "         -0.1802718 ,  0.09363626, -0.2088731 ,  0.17037202,  0.03960438,\n",
       "          0.0578721 , -0.09211883,  0.10595097, -0.23533964,  0.06565188,\n",
       "         -0.16178131, -0.00867102,  0.06913324, -0.23774001,  0.22612308,\n",
       "          0.17948855, -0.06954734,  0.02038683,  0.17818563, -0.03983316,\n",
       "         -0.11894096,  0.08124875,  0.19601475, -0.10257447, -0.22611545,\n",
       "          0.17569722,  0.04088469, -0.21303244, -0.05622946, -0.13650009,\n",
       "         -0.20134112, -0.1273635 , -0.03457853,  0.22783129,  0.06714065],\n",
       "        [-0.1706095 ,  0.05131947, -0.18143007,  0.07379679, -0.08753586,\n",
       "          0.13523103,  0.1141886 ,  0.04327045, -0.09302148,  0.21092318,\n",
       "         -0.03889112,  0.16155158,  0.06547923, -0.18567924, -0.09401168,\n",
       "         -0.04466686, -0.1399982 , -0.09136721,  0.12369145,  0.08007844,\n",
       "         -0.09653167,  0.1570351 , -0.16712233, -0.1600999 ,  0.02798559,\n",
       "          0.12401454,  0.20414375,  0.20615207, -0.10502386,  0.12855624,\n",
       "         -0.106261  ,  0.1053225 ,  0.23712967,  0.0487027 ,  0.04329167,\n",
       "          0.12480251, -0.12827213, -0.05724388,  0.09620704,  0.08185963,\n",
       "         -0.02012494, -0.07393678,  0.21357267,  0.03611068,  0.09761234,\n",
       "         -0.1008257 ,  0.00093201, -0.14466286, -0.03305317,  0.15359758,\n",
       "         -0.07371353,  0.04750441,  0.20923232,  0.18625043,  0.23696782,\n",
       "          0.08423825, -0.10034838, -0.11724161, -0.09183376, -0.07576385,\n",
       "         -0.09403557,  0.09621559,  0.17441289,  0.23140849,  0.23647483,\n",
       "         -0.10258827, -0.14829062, -0.22767922,  0.19247372, -0.03655909,\n",
       "         -0.18282174,  0.22611083,  0.11777063, -0.06500478,  0.12996407,\n",
       "         -0.07337704, -0.12055033, -0.18612379, -0.13854289,  0.04707856,\n",
       "          0.11921744, -0.21919514, -0.19781993, -0.14642856,  0.200431  ,\n",
       "         -0.08668153, -0.07522812, -0.01230158,  0.14724474,  0.17082174,\n",
       "          0.02122565, -0.06857488,  0.1478193 , -0.0345864 ,  0.1743352 ,\n",
       "          0.17010684, -0.09495486, -0.19455698,  0.10948201,  0.22609328],\n",
       "        [-0.02854145, -0.03648289,  0.0350474 , -0.03894646,  0.049693  ,\n",
       "          0.21605192, -0.07429013,  0.22227897, -0.12097265,  0.08969043,\n",
       "         -0.01469488, -0.10905816, -0.05457342, -0.16729373, -0.17614643,\n",
       "         -0.16694617, -0.1675193 ,  0.05366592, -0.02389286,  0.13680483,\n",
       "         -0.20645261, -0.16373354, -0.13226631,  0.12871657,  0.18616448,\n",
       "          0.04262839,  0.17983364,  0.12161981, -0.09623258, -0.10782312,\n",
       "         -0.21797366,  0.00543337,  0.05419277, -0.08540654,  0.12232639,\n",
       "          0.02737211, -0.1990927 ,  0.10065307,  0.08664985,  0.07384451,\n",
       "         -0.05751033, -0.09829608,  0.03905721, -0.21774039, -0.02999498,\n",
       "         -0.12515843,  0.21669601,  0.22682326, -0.00501858, -0.19981804,\n",
       "          0.21368967,  0.02159338,  0.11260836,  0.21247731, -0.02339424,\n",
       "          0.11420576,  0.06380661,  0.12373693,  0.0640849 , -0.1912046 ,\n",
       "         -0.09563507, -0.10294618, -0.17298338,  0.01659937,  0.10254587,\n",
       "          0.00285375,  0.19516452, -0.05538465, -0.05778617, -0.15869291,\n",
       "         -0.19425783, -0.22428495,  0.1054263 ,  0.10261352, -0.15991387,\n",
       "         -0.03848414,  0.07743607,  0.12628685, -0.1109183 ,  0.11086838,\n",
       "         -0.00657299,  0.13612233,  0.16136418, -0.10366042, -0.00237906,\n",
       "          0.09617235, -0.23266497, -0.06439866,  0.11849739, -0.04987395,\n",
       "          0.23497467, -0.07770115,  0.19201891, -0.09898381,  0.11187966,\n",
       "         -0.1538553 , -0.12905066, -0.21811318,  0.10786746, -0.07698087],\n",
       "        [-0.16592623,  0.13790812, -0.15063268,  0.05307172, -0.039406  ,\n",
       "          0.11927049,  0.2220474 ,  0.10971425, -0.05690928, -0.23215637,\n",
       "         -0.08995509, -0.21467304, -0.14479616,  0.01531966,  0.0738893 ,\n",
       "          0.21115355,  0.09995417, -0.06469679, -0.15870032,  0.14303868,\n",
       "         -0.07164179, -0.21168274,  0.09259479, -0.00223982, -0.11422685,\n",
       "         -0.21338432,  0.00151989,  0.14655183, -0.23840763, -0.21247749,\n",
       "          0.06770711, -0.11654914, -0.18189645,  0.10989939, -0.19113398,\n",
       "         -0.05337429,  0.21533023,  0.21398862,  0.00779949,  0.03724916,\n",
       "         -0.01775518, -0.20478174, -0.19978449, -0.21192837, -0.09597093,\n",
       "         -0.12144723, -0.2259088 , -0.11016336,  0.14412574,  0.06292044,\n",
       "         -0.04175936, -0.18443657,  0.14741413, -0.15574118,  0.05452777,\n",
       "         -0.01613703,  0.16989283,  0.21182726,  0.06682469,  0.10956837,\n",
       "         -0.16427669,  0.18116023,  0.20019694,  0.04725115,  0.09730963,\n",
       "         -0.1307519 ,  0.01829435, -0.23412   , -0.05591099,  0.02336721,\n",
       "         -0.02341805, -0.06988856,  0.20399605,  0.12707357,  0.02852319,\n",
       "          0.12201591,  0.07424654,  0.20614313,  0.14548565, -0.10760388,\n",
       "         -0.04088451, -0.14263487, -0.05289732,  0.13310923,  0.12777726,\n",
       "          0.15588202, -0.09599321,  0.16992332, -0.13281241, -0.20943727,\n",
       "         -0.20095153, -0.11904076, -0.15820932,  0.0535623 , -0.09587067,\n",
       "         -0.098225  ,  0.08285098,  0.00576957, -0.1915323 , -0.08522867]],\n",
       "       dtype=float32)>,\n",
       " <tf.Variable 'dense_1/bias:0' shape=(100,) dtype=float32, numpy=\n",
       " array([0., 0., 0., 0., 0., 0., 0., 0., 0., 0., 0., 0., 0., 0., 0., 0., 0.,\n",
       "        0., 0., 0., 0., 0., 0., 0., 0., 0., 0., 0., 0., 0., 0., 0., 0., 0.,\n",
       "        0., 0., 0., 0., 0., 0., 0., 0., 0., 0., 0., 0., 0., 0., 0., 0., 0.,\n",
       "        0., 0., 0., 0., 0., 0., 0., 0., 0., 0., 0., 0., 0., 0., 0., 0., 0.,\n",
       "        0., 0., 0., 0., 0., 0., 0., 0., 0., 0., 0., 0., 0., 0., 0., 0., 0.,\n",
       "        0., 0., 0., 0., 0., 0., 0., 0., 0., 0., 0., 0., 0., 0., 0.],\n",
       "       dtype=float32)>]"
      ]
     },
     "execution_count": 12,
     "metadata": {},
     "output_type": "execute_result"
    }
   ],
   "source": [
    "# layer.variables\n",
    "# x * w + b\n",
    "layer.trainable_variables"
   ]
  },
  {
   "cell_type": "code",
   "execution_count": null,
   "metadata": {},
   "outputs": [],
   "source": [
    "# help(layer) 帮助文档"
   ]
  },
  {
   "cell_type": "code",
   "execution_count": 13,
   "metadata": {},
   "outputs": [
    {
     "name": "stdout",
     "output_type": "stream",
     "text": [
      ".. _california_housing_dataset:\n",
      "\n",
      "California Housing dataset\n",
      "--------------------------\n",
      "\n",
      "**Data Set Characteristics:**\n",
      "\n",
      "    :Number of Instances: 20640\n",
      "\n",
      "    :Number of Attributes: 8 numeric, predictive attributes and the target\n",
      "\n",
      "    :Attribute Information:\n",
      "        - MedInc        median income in block\n",
      "        - HouseAge      median house age in block\n",
      "        - AveRooms      average number of rooms\n",
      "        - AveBedrms     average number of bedrooms\n",
      "        - Population    block population\n",
      "        - AveOccup      average house occupancy\n",
      "        - Latitude      house block latitude\n",
      "        - Longitude     house block longitude\n",
      "\n",
      "    :Missing Attribute Values: None\n",
      "\n",
      "This dataset was obtained from the StatLib repository.\n",
      "http://lib.stat.cmu.edu/datasets/\n",
      "\n",
      "The target variable is the median house value for California districts.\n",
      "\n",
      "This dataset was derived from the 1990 U.S. census, using one row per census\n",
      "block group. A block group is the smallest geographical unit for which the U.S.\n",
      "Census Bureau publishes sample data (a block group typically has a population\n",
      "of 600 to 3,000 people).\n",
      "\n",
      "It can be downloaded/loaded using the\n",
      ":func:`sklearn.datasets.fetch_california_housing` function.\n",
      "\n",
      ".. topic:: References\n",
      "\n",
      "    - Pace, R. Kelley and Ronald Barry, Sparse Spatial Autoregressions,\n",
      "      Statistics and Probability Letters, 33 (1997) 291-297\n",
      "\n",
      "(20640, 8)\n",
      "(20640,)\n"
     ]
    }
   ],
   "source": [
    "# 从本地保存数据文件加载数据\n",
    "with open(file='../chapter_2/data/california_housing.pkl', mode='rb') as f:\n",
    "    housing=pickle.load(f)\n",
    "# from sklearn.datasets import fetch_california_housing\n",
    "# housing = fetch_california_housing()\n",
    "print(housing.DESCR)\n",
    "print(housing.data.shape)\n",
    "print(housing.target.shape)"
   ]
  },
  {
   "cell_type": "code",
   "execution_count": 14,
   "metadata": {},
   "outputs": [
    {
     "name": "stdout",
     "output_type": "stream",
     "text": [
      "(11610, 8) (11610,)\n",
      "(3870, 8) (3870,)\n",
      "(5160, 8) (5160,)\n"
     ]
    }
   ],
   "source": [
    "from sklearn.model_selection import train_test_split\n",
    "x_train_all, x_test, y_train_all, y_test = train_test_split(\n",
    "    housing.data, housing.target, random_state = 7)\n",
    "x_train, x_valid, y_train, y_valid = train_test_split(\n",
    "    x_train_all, y_train_all, random_state = 11)\n",
    "print(x_train.shape, y_train.shape)\n",
    "print(x_valid.shape, y_valid.shape)\n",
    "print(x_test.shape, y_test.shape)"
   ]
  },
  {
   "cell_type": "code",
   "execution_count": 15,
   "metadata": {},
   "outputs": [],
   "source": [
    "from sklearn.preprocessing import StandardScaler\n",
    "\n",
    "scaler = StandardScaler()\n",
    "x_train_scaled = scaler.fit_transform(x_train)\n",
    "x_valid_scaled = scaler.transform(x_valid)\n",
    "x_test_scaled = scaler.transform(x_test)"
   ]
  },
  {
   "cell_type": "markdown",
   "metadata": {},
   "source": [
    "### 将一个简单的函数定义为一个层次，就不需要下边build部分，进行参数的构建，所以可以通过简单的方式，将没有参数的函数定义为层次。使用lamda自定义层次。"
   ]
  },
  {
   "cell_type": "code",
   "execution_count": 16,
   "metadata": {},
   "outputs": [
    {
     "data": {
      "image/png": "[encoded data removed]",
      "text/plain": [
       "<matplotlib.figure.Figure at 0x7fc30472e7f0>"
      ]
     },
     "metadata": {},
     "output_type": "display_data"
    }
   ],
   "source": [
    "# tf.nn.softplus : log(1+e^x) 平滑版的relu,不存在折点\n",
    "x_points = np.linspace(-10, 10 ,1000)\n",
    "y_values = [1+np.exp(x) for x in x_points]\n",
    "plt.plot(x_points, y_values)\n",
    "plt.grid()"
   ]
  },
  {
   "cell_type": "code",
   "execution_count": 17,
   "metadata": {},
   "outputs": [
    {
     "name": "stdout",
     "output_type": "stream",
     "text": [
      "tf.Tensor([4.5417706e-05 6.7153489e-03 6.9314718e-01 5.0067153e+00 1.0000046e+01], shape=(5,), dtype=float32)\n"
     ]
    }
   ],
   "source": [
    "# 直接将不带参数的python函数转化为tensorflow中的激活层次函数，通过函数式方法调用\n",
    "customized_softplus = keras.layers.Lambda(lambda x: tf.nn.softplus(x))\n",
    "print(customized_softplus([-10., -5., 0., 5. , 10.]))"
   ]
  },
  {
   "cell_type": "code",
   "execution_count": 20,
   "metadata": {},
   "outputs": [
    {
     "name": "stdout",
     "output_type": "stream",
     "text": [
      "Model: \"sequential_1\"\n",
      "_________________________________________________________________\n",
      "Layer (type)                 Output Shape              Param #   \n",
      "=================================================================\n",
      "customized_dense_layer_2 (Cu (None, 30)                270       \n",
      "_________________________________________________________________\n",
      "customized_dense_layer_3 (Cu (None, 1)                 31        \n",
      "_________________________________________________________________\n",
      "lambda_1 (Lambda)            (None, 1)                 0         \n",
      "=================================================================\n",
      "Total params: 301\n",
      "Trainable params: 301\n",
      "Non-trainable params: 0\n",
      "_________________________________________________________________\n"
     ]
    }
   ],
   "source": [
    "# customized dense layer.\n",
    "class CustomizedDenseLayer(keras.layers.Layer):\n",
    "    def __init__(self, units, activation=None, **kwargs):\n",
    "        self.units = units\n",
    "        self.activation = keras.layers.Activation(activation)\n",
    "        super(CustomizedDenseLayer, self).__init__(**kwargs)\n",
    "\n",
    "    def build(self, input_shape):\n",
    "        \"\"\"构建所需要的参数，把所有的参数初始化\"\"\"\n",
    "#         x * w + b input_shape:[None, a] w[a,b] output_shape:[None, b]\n",
    "#         add_weight是父类中的子方法\n",
    "#         首先定义w部分，也就是kernel部分\n",
    "        self.kernel = self.add_weight(name = 'kernel',\n",
    "                                      shape = (input_shape[1], self.units),\n",
    "                                      initializer = 'uniform', # 初始化矩阵的方式\n",
    "                                      trainable=True) # 权重参数是可变的\n",
    "        \n",
    "        self.bias = self.add_weight(name='bias',\n",
    "                                   shape = (self.units,),\n",
    "                                   initializer='zeros',\n",
    "                                   trainable=True)\n",
    "\n",
    "        super(CustomizedDenseLayer, self).build(input_shape)\n",
    "        \n",
    "    def call(self, x):\n",
    "        \"\"\"完成正向计算\"\"\"\n",
    "        return self.activation(x @ self.kernel + self.bias)\n",
    "\n",
    "\n",
    "model = keras.models.Sequential([\n",
    "    CustomizedDenseLayer(30, activation='relu',\n",
    "                      input_shape=x_train.shape[1:]),\n",
    "    CustomizedDenseLayer(1),\n",
    "    customized_softplus,\n",
    "#     与下面的等价\n",
    "#     keras.layers.Dense(1), keras.layers.Activation('softplus'),\n",
    "#     kears.layers.Dense(1, activation='softplus')\n",
    "])\n",
    "\n",
    "model.summary()\n",
    "model.compile(loss=\"mean_squared_error\", optimizer=\"sgd\")\n",
    "callbacks = [keras.callbacks.EarlyStopping(\n",
    "    patience=5, min_delta=1e-2)]"
   ]
  },
  {
   "cell_type": "code",
   "execution_count": 21,
   "metadata": {},
   "outputs": [
    {
     "name": "stdout",
     "output_type": "stream",
     "text": [
      "Epoch 1/100\n",
      "363/363 [==============================] - 1s 4ms/step - loss: 1.1754 - val_loss: 0.6762\n",
      "Epoch 2/100\n",
      "363/363 [==============================] - 1s 3ms/step - loss: 0.5891 - val_loss: 0.5841\n",
      "Epoch 3/100\n",
      "363/363 [==============================] - 1s 3ms/step - loss: 0.5195 - val_loss: 0.5294\n",
      "Epoch 4/100\n",
      "363/363 [==============================] - 1s 3ms/step - loss: 0.4806 - val_loss: 0.4899\n",
      "Epoch 5/100\n",
      "363/363 [==============================] - 1s 3ms/step - loss: 0.4612 - val_loss: 0.4720\n",
      "Epoch 6/100\n",
      "363/363 [==============================] - 1s 3ms/step - loss: 0.4586 - val_loss: 0.5294\n",
      "Epoch 7/100\n",
      "363/363 [==============================] - 1s 3ms/step - loss: 0.4644 - val_loss: 0.4582\n",
      "Epoch 8/100\n",
      "363/363 [==============================] - 1s 3ms/step - loss: 0.4338 - val_loss: 0.4716\n",
      "Epoch 9/100\n",
      "363/363 [==============================] - 1s 3ms/step - loss: 0.4274 - val_loss: 0.4374\n",
      "Epoch 10/100\n",
      "363/363 [==============================] - 1s 3ms/step - loss: 0.4240 - val_loss: 0.4351\n",
      "Epoch 11/100\n",
      "363/363 [==============================] - 1s 3ms/step - loss: 0.4095 - val_loss: 0.4429\n",
      "Epoch 12/100\n",
      "363/363 [==============================] - 1s 3ms/step - loss: 0.4038 - val_loss: 0.4157\n",
      "Epoch 13/100\n",
      "363/363 [==============================] - 1s 3ms/step - loss: 0.3953 - val_loss: 0.4109\n",
      "Epoch 14/100\n",
      "363/363 [==============================] - 1s 3ms/step - loss: 0.3912 - val_loss: 0.4008\n",
      "Epoch 15/100\n",
      "363/363 [==============================] - 1s 3ms/step - loss: 0.3863 - val_loss: 0.3973\n",
      "Epoch 16/100\n",
      "363/363 [==============================] - 1s 3ms/step - loss: 0.3828 - val_loss: 0.3988\n",
      "Epoch 17/100\n",
      "363/363 [==============================] - 1s 3ms/step - loss: 0.3808 - val_loss: 0.3929\n",
      "Epoch 18/100\n",
      "363/363 [==============================] - 1s 3ms/step - loss: 0.3776 - val_loss: 0.3914\n",
      "Epoch 19/100\n",
      "363/363 [==============================] - 1s 3ms/step - loss: 0.3753 - val_loss: 0.3877\n",
      "Epoch 20/100\n",
      "363/363 [==============================] - 1s 3ms/step - loss: 0.3763 - val_loss: 0.4008\n",
      "Epoch 21/100\n",
      "363/363 [==============================] - 1s 3ms/step - loss: 0.3736 - val_loss: 0.3880\n",
      "Epoch 22/100\n",
      "363/363 [==============================] - 1s 3ms/step - loss: 0.3714 - val_loss: 0.3906\n",
      "Epoch 23/100\n",
      "363/363 [==============================] - 1s 3ms/step - loss: 0.3706 - val_loss: 0.3864\n",
      "Epoch 24/100\n",
      "363/363 [==============================] - 1s 3ms/step - loss: 0.3693 - val_loss: 0.3834\n"
     ]
    }
   ],
   "source": [
    "history = model.fit(x_train_scaled, y_train,\n",
    "                    validation_data = (x_valid_scaled, y_valid),\n",
    "                    epochs = 100,\n",
    "                    callbacks = callbacks)"
   ]
  },
  {
   "cell_type": "code",
   "execution_count": 22,
   "metadata": {},
   "outputs": [
    {
     "data": {
      "image/png": "[encoded data removed]",
      "text/plain": [
       "<matplotlib.figure.Figure at 0x7fc404638cf8>"
      ]
     },
     "metadata": {},
     "output_type": "display_data"
    }
   ],
   "source": [
    "def plot_learning_curves(history):\n",
    "    pd.DataFrame(history.history).plot(figsize=(8,5))\n",
    "    plt.grid(True)\n",
    "    plt.gca().set_ylim(0,1)\n",
    "    plt.show()\n",
    "plot_learning_curves(history)"
   ]
  },
  {
   "cell_type": "code",
   "execution_count": 23,
   "metadata": {},
   "outputs": [
    {
     "name": "stdout",
     "output_type": "stream",
     "text": [
      "162/162 [==============================] - 0s 2ms/step - loss: 0.3852\n"
     ]
    },
    {
     "data": {
      "text/plain": [
       "0.38520094752311707"
      ]
     },
     "execution_count": 23,
     "metadata": {},
     "output_type": "execute_result"
    }
   ],
   "source": [
    "model.evaluate(x_test_scaled, y_test)"
   ]
  },
  {
   "cell_type": "code",
   "execution_count": null,
   "metadata": {},
   "outputs": [],
   "source": []
  }
 ],
 "metadata": {
  "kernelspec": {
   "display_name": "Python 3",
   "language": "python",
   "name": "python3"
  },
  "language_info": {
   "codemirror_mode": {
    "name": "ipython",
    "version": 3
   },
   "file_extension": ".py",
   "mimetype": "text/x-python",
   "name": "python",
   "nbconvert_exporter": "python",
   "pygments_lexer": "ipython3",
   "version": "3.6.4"
  }
 },
 "nbformat": 4,
 "nbformat_minor": 2
}
