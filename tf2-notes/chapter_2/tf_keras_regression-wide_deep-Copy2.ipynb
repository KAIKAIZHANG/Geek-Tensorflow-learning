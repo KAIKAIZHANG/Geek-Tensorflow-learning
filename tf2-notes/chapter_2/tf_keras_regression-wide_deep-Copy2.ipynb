{
 "cells": [
  {
   "cell_type": "code",
   "execution_count": 45,
   "metadata": {},
   "outputs": [
    {
     "name": "stdout",
     "output_type": "stream",
     "text": [
      "2.2.0\n",
      "sys.version_info(major=3, minor=6, micro=4, releaselevel='final', serial=0)\n",
      "matplotlib 2.1.2\n",
      "numpy 1.19.1\n",
      "pandas 0.22.0\n",
      "sklearn 0.19.1\n",
      "tensorflow 2.2.0\n",
      "tensorflow.keras 2.3.0-tf\n"
     ]
    }
   ],
   "source": [
    "import matplotlib as mpl\n",
    "import matplotlib.pyplot as plt\n",
    "%matplotlib inline\n",
    "import numpy as np\n",
    "import sklearn\n",
    "import pandas as pd\n",
    "import os\n",
    "import sys\n",
    "import time\n",
    "import pickle\n",
    "import tensorflow as tf\n",
    "\n",
    "from tensorflow import keras\n",
    "\n",
    "print(tf.__version__)\n",
    "print(sys.version_info)\n",
    "for module in mpl, np, pd, sklearn, tf, keras:\n",
    "    print(module.__name__, module.__version__)"
   ]
  },
  {
   "cell_type": "code",
   "execution_count": 46,
   "metadata": {},
   "outputs": [
    {
     "name": "stdout",
     "output_type": "stream",
     "text": [
      ".. _california_housing_dataset:\n",
      "\n",
      "California Housing dataset\n",
      "--------------------------\n",
      "\n",
      "**Data Set Characteristics:**\n",
      "\n",
      "    :Number of Instances: 20640\n",
      "\n",
      "    :Number of Attributes: 8 numeric, predictive attributes and the target\n",
      "\n",
      "    :Attribute Information:\n",
      "        - MedInc        median income in block\n",
      "        - HouseAge      median house age in block\n",
      "        - AveRooms      average number of rooms\n",
      "        - AveBedrms     average number of bedrooms\n",
      "        - Population    block population\n",
      "        - AveOccup      average house occupancy\n",
      "        - Latitude      house block latitude\n",
      "        - Longitude     house block longitude\n",
      "\n",
      "    :Missing Attribute Values: None\n",
      "\n",
      "This dataset was obtained from the StatLib repository.\n",
      "http://lib.stat.cmu.edu/datasets/\n",
      "\n",
      "The target variable is the median house value for California districts.\n",
      "\n",
      "This dataset was derived from the 1990 U.S. census, using one row per census\n",
      "block group. A block group is the smallest geographical unit for which the U.S.\n",
      "Census Bureau publishes sample data (a block group typically has a population\n",
      "of 600 to 3,000 people).\n",
      "\n",
      "It can be downloaded/loaded using the\n",
      ":func:`sklearn.datasets.fetch_california_housing` function.\n",
      "\n",
      ".. topic:: References\n",
      "\n",
      "    - Pace, R. Kelley and Ronald Barry, Sparse Spatial Autoregressions,\n",
      "      Statistics and Probability Letters, 33 (1997) 291-297\n",
      "\n",
      "(20640, 8)\n",
      "(20640,)\n"
     ]
    }
   ],
   "source": [
    "# 从本地保存数据文件加载数据\n",
    "with open(file='data/california_housing.pkl', mode='rb') as f:\n",
    "    housing=pickle.load(f)\n",
    "# from sklearn.datasets import fetch_california_housing\n",
    "# housing = fetch_california_housing()\n",
    "print(housing.DESCR)\n",
    "print(housing.data.shape)\n",
    "print(housing.target.shape)"
   ]
  },
  {
   "cell_type": "code",
   "execution_count": 53,
   "metadata": {},
   "outputs": [
    {
     "name": "stdout",
     "output_type": "stream",
     "text": [
      "(11610, 8) (11610,)\n",
      "(3870, 8) (3870,)\n",
      "(5160, 8) (5160,)\n"
     ]
    }
   ],
   "source": [
    "from sklearn.model_selection import train_test_split\n",
    "\n",
    "x_train_all, x_test, y_train_all, y_test = train_test_split(\n",
    "    housing.data, housing.target, random_state = 7)\n",
    "x_train, x_valid, y_train, y_valid = train_test_split(\n",
    "    x_train_all, y_train_all, random_state = 11)\n",
    "print(x_train.shape, y_train.shape)\n",
    "print(x_valid.shape, y_valid.shape)\n",
    "print(x_test.shape, y_test.shape)"
   ]
  },
  {
   "cell_type": "code",
   "execution_count": 77,
   "metadata": {},
   "outputs": [],
   "source": [
    "from sklearn.preprocessing import StandardScaler\n",
    "\n",
    "scaler = StandardScaler()\n",
    "# 此处采用fit_transform是因为，该函数可以将训练集的均值和方差记录下来，这样在验证集和测试集可以保持一致，这样也就保证了数据是同分布的，模型的构建和训练才会有效\n",
    "x_train_scaled = scaler.fit_transform(x_train)\n",
    "x_valid_scaled = scaler.transform(x_valid)\n",
    "x_test_scaled = scaler.transform(x_test)"
   ]
  },
  {
   "cell_type": "code",
   "execution_count": 78,
   "metadata": {},
   "outputs": [
    {
     "name": "stdout",
     "output_type": "stream",
     "text": [
      "Model: \"model_18\"\n",
      "__________________________________________________________________________________________________\n",
      "Layer (type)                    Output Shape         Param #     Connected to                     \n",
      "==================================================================================================\n",
      "input_19 (InputLayer)           [(None, 8)]          0                                            \n",
      "__________________________________________________________________________________________________\n",
      "dense_54 (Dense)                (None, 30)           270         input_19[0][0]                   \n",
      "__________________________________________________________________________________________________\n",
      "dense_55 (Dense)                (None, 30)           930         dense_54[0][0]                   \n",
      "__________________________________________________________________________________________________\n",
      "concatenate_18 (Concatenate)    (None, 38)           0           input_19[0][0]                   \n",
      "                                                                 dense_55[0][0]                   \n",
      "__________________________________________________________________________________________________\n",
      "dense_56 (Dense)                (None, 1)            39          concatenate_18[0][0]             \n",
      "==================================================================================================\n",
      "Total params: 1,239\n",
      "Trainable params: 1,239\n",
      "Non-trainable params: 0\n",
      "__________________________________________________________________________________________________\n"
     ]
    }
   ],
   "source": [
    "# 函数式API 功能API\n",
    "input = keras.layers.Input(shape=x_train.shape[1:])\n",
    "hidden1 = keras.layers.Dense(30, activation='relu')(input)\n",
    "hidden2 = keras.layers.Dense(30, activation='relu')(hidden1)\n",
    "# 复合函数: f(x) = h(g(x))\n",
    "\n",
    "concat = keras.layers.concatenate([input, hidden2])\n",
    "output = keras.layers.Dense(1)(concat)\n",
    "\n",
    "# 由于使用的是函数式api，所以需要将模型固化下来\n",
    "model = keras.models.Model(inputs = [input],\n",
    "                           outputs = [output])\n",
    "\n",
    "model.summary()\n",
    "model.compile(loss=\"mean_squared_error\", optimizer=\"sgd\")\n",
    "callbacks = [keras.callbacks.EarlyStopping(\n",
    "    patience=5, min_delta=1e-2)]"
   ]
  },
  {
   "cell_type": "code",
   "execution_count": 79,
   "metadata": {},
   "outputs": [
    {
     "name": "stdout",
     "output_type": "stream",
     "text": [
      "Epoch 1/100\n",
      "91/91 [==============================] - 0s 4ms/step - loss: 1.2332 - val_loss: 0.6490\n",
      "Epoch 2/100\n",
      "91/91 [==============================] - 0s 4ms/step - loss: 0.5618 - val_loss: 0.5726\n",
      "Epoch 3/100\n",
      "91/91 [==============================] - 0s 4ms/step - loss: 0.5127 - val_loss: 0.5351\n",
      "Epoch 4/100\n",
      "91/91 [==============================] - 0s 4ms/step - loss: 0.4913 - val_loss: 0.5159\n",
      "Epoch 5/100\n",
      "91/91 [==============================] - 0s 4ms/step - loss: 0.4760 - val_loss: 0.4986\n",
      "Epoch 6/100\n",
      "91/91 [==============================] - 0s 4ms/step - loss: 0.4673 - val_loss: 0.5072\n",
      "Epoch 7/100\n",
      "91/91 [==============================] - 0s 4ms/step - loss: 0.4619 - val_loss: 0.4812\n",
      "Epoch 8/100\n",
      "91/91 [==============================] - 0s 4ms/step - loss: 0.4571 - val_loss: 0.4755\n",
      "Epoch 9/100\n",
      "91/91 [==============================] - 0s 4ms/step - loss: 0.4448 - val_loss: 0.4602\n",
      "Epoch 10/100\n",
      "91/91 [==============================] - 0s 4ms/step - loss: 0.4373 - val_loss: 0.4536\n",
      "Epoch 11/100\n",
      "91/91 [==============================] - 0s 4ms/step - loss: 0.4299 - val_loss: 0.4472\n",
      "Epoch 12/100\n",
      "91/91 [==============================] - 0s 4ms/step - loss: 0.4255 - val_loss: 0.4437\n",
      "Epoch 13/100\n",
      "91/91 [==============================] - 0s 4ms/step - loss: 0.4211 - val_loss: 0.4344\n",
      "Epoch 14/100\n",
      "91/91 [==============================] - 0s 4ms/step - loss: 0.4137 - val_loss: 0.4304\n",
      "Epoch 15/100\n",
      "91/91 [==============================] - 0s 4ms/step - loss: 0.4112 - val_loss: 0.4355\n",
      "Epoch 16/100\n",
      "91/91 [==============================] - 0s 4ms/step - loss: 0.4086 - val_loss: 0.4218\n",
      "Epoch 17/100\n",
      "91/91 [==============================] - 0s 4ms/step - loss: 0.4050 - val_loss: 0.4173\n",
      "Epoch 18/100\n",
      "91/91 [==============================] - 0s 4ms/step - loss: 0.3999 - val_loss: 0.4113\n",
      "Epoch 19/100\n",
      "91/91 [==============================] - 0s 4ms/step - loss: 0.3951 - val_loss: 0.4091\n",
      "Epoch 20/100\n",
      "91/91 [==============================] - 0s 4ms/step - loss: 0.3916 - val_loss: 0.4083\n",
      "Epoch 21/100\n",
      "91/91 [==============================] - 0s 4ms/step - loss: 0.3939 - val_loss: 0.4048\n",
      "Epoch 22/100\n",
      "91/91 [==============================] - 0s 4ms/step - loss: 0.3914 - val_loss: 0.3999\n",
      "Epoch 23/100\n",
      "91/91 [==============================] - 0s 4ms/step - loss: 0.3865 - val_loss: 0.3971\n",
      "Epoch 24/100\n",
      "91/91 [==============================] - 0s 4ms/step - loss: 0.3804 - val_loss: 0.3922\n",
      "Epoch 25/100\n",
      "91/91 [==============================] - 0s 4ms/step - loss: 0.3785 - val_loss: 0.3920\n",
      "Epoch 26/100\n",
      "91/91 [==============================] - 0s 4ms/step - loss: 0.3797 - val_loss: 0.3920\n",
      "Epoch 27/100\n",
      "91/91 [==============================] - 0s 4ms/step - loss: 0.3816 - val_loss: 0.3890\n",
      "Epoch 28/100\n",
      "91/91 [==============================] - 0s 4ms/step - loss: 0.3766 - val_loss: 0.3879\n",
      "Epoch 29/100\n",
      "91/91 [==============================] - 0s 4ms/step - loss: 0.3696 - val_loss: 0.3839\n",
      "Epoch 30/100\n",
      "91/91 [==============================] - 0s 4ms/step - loss: 0.3681 - val_loss: 0.3829\n",
      "Epoch 31/100\n",
      "91/91 [==============================] - 0s 4ms/step - loss: 0.3696 - val_loss: 0.3806\n",
      "Epoch 32/100\n",
      "91/91 [==============================] - 0s 4ms/step - loss: 0.3680 - val_loss: 0.3750\n",
      "Epoch 33/100\n",
      "91/91 [==============================] - 0s 4ms/step - loss: 0.3635 - val_loss: 0.3776\n",
      "Epoch 34/100\n",
      "91/91 [==============================] - 0s 4ms/step - loss: 0.3658 - val_loss: 0.3764\n",
      "Epoch 35/100\n",
      "91/91 [==============================] - 0s 4ms/step - loss: 0.3628 - val_loss: 0.3742\n",
      "Epoch 36/100\n",
      "91/91 [==============================] - 0s 4ms/step - loss: 0.3614 - val_loss: 0.3759\n",
      "Epoch 37/100\n",
      "91/91 [==============================] - 0s 4ms/step - loss: 0.3623 - val_loss: 0.3784\n"
     ]
    }
   ],
   "source": [
    "# 训练的时候发现batch_size过小，会导致模型不拟合,batch_size对模型训练的影响：https://zhuanlan.zhihu.com/p/86827387\n",
    "# 重点分析一下batch_size的影响\n",
    "history = model.fit(x_train_scaled, y_train,\n",
    "                    batch_size = 128,\n",
    "                    validation_data = (x_valid_scaled, y_valid),\n",
    "                    epochs = 100,\n",
    "                    callbacks = callbacks)"
   ]
  },
  {
   "cell_type": "code",
   "execution_count": 80,
   "metadata": {},
   "outputs": [
    {
     "data": {
      "image/png": "[encoded data removed]",
      "text/plain": [
       "<matplotlib.figure.Figure at 0x7fbcd44eed68>"
      ]
     },
     "metadata": {},
     "output_type": "display_data"
    }
   ],
   "source": [
    "def plot_learning_curves(history):\n",
    "    pd.DataFrame(history.history).plot(figsize=(8, 5))\n",
    "    plt.grid(True)\n",
    "    plt.gca().set_ylim(0, 1)\n",
    "    plt.show()\n",
    "plot_learning_curves(history)"
   ]
  },
  {
   "cell_type": "code",
   "execution_count": 81,
   "metadata": {},
   "outputs": [
    {
     "name": "stdout",
     "output_type": "stream",
     "text": [
      "162/162 [==============================] - 0s 2ms/step - loss: 0.4105\n"
     ]
    },
    {
     "data": {
      "text/plain": [
       "0.4104999899864197"
      ]
     },
     "execution_count": 81,
     "metadata": {},
     "output_type": "execute_result"
    }
   ],
   "source": [
    "model.evaluate(x_test_scaled, y_test)"
   ]
  },
  {
   "cell_type": "code",
   "execution_count": null,
   "metadata": {},
   "outputs": [],
   "source": []
  }
 ],
 "metadata": {
  "kernelspec": {
   "display_name": "Python 3",
   "language": "python",
   "name": "python3"
  },
  "language_info": {
   "codemirror_mode": {
    "name": "ipython",
    "version": 3
   },
   "file_extension": ".py",
   "mimetype": "text/x-python",
   "name": "python",
   "nbconvert_exporter": "python",
   "pygments_lexer": "ipython3",
   "version": "3.6.4"
  }
 },
 "nbformat": 4,
 "nbformat_minor": 2
}
