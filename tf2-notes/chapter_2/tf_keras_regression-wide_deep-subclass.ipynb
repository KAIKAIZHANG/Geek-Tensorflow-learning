{
 "cells": [
  {
   "cell_type": "code",
   "execution_count": 1,
   "metadata": {},
   "outputs": [
    {
     "name": "stdout",
     "output_type": "stream",
     "text": [
      "2.2.0\n",
      "sys.version_info(major=3, minor=6, micro=4, releaselevel='final', serial=0)\n",
      "matplotlib 2.1.2\n",
      "numpy 1.19.1\n",
      "pandas 0.22.0\n",
      "sklearn 0.19.1\n",
      "tensorflow 2.2.0\n",
      "tensorflow.keras 2.3.0-tf\n"
     ]
    }
   ],
   "source": [
    "import matplotlib as mpl\n",
    "import matplotlib.pyplot as plt\n",
    "%matplotlib inline\n",
    "import numpy as np\n",
    "import sklearn\n",
    "import pandas as pd\n",
    "import os\n",
    "import sys\n",
    "import time\n",
    "import pickle\n",
    "import tensorflow as tf\n",
    "\n",
    "from tensorflow import keras\n",
    "\n",
    "print(tf.__version__)\n",
    "print(sys.version_info)\n",
    "for module in mpl, np, pd, sklearn, tf, keras:\n",
    "    print(module.__name__, module.__version__)"
   ]
  },
  {
   "cell_type": "code",
   "execution_count": 2,
   "metadata": {},
   "outputs": [
    {
     "name": "stdout",
     "output_type": "stream",
     "text": [
      ".. _california_housing_dataset:\n",
      "\n",
      "California Housing dataset\n",
      "--------------------------\n",
      "\n",
      "**Data Set Characteristics:**\n",
      "\n",
      "    :Number of Instances: 20640\n",
      "\n",
      "    :Number of Attributes: 8 numeric, predictive attributes and the target\n",
      "\n",
      "    :Attribute Information:\n",
      "        - MedInc        median income in block\n",
      "        - HouseAge      median house age in block\n",
      "        - AveRooms      average number of rooms\n",
      "        - AveBedrms     average number of bedrooms\n",
      "        - Population    block population\n",
      "        - AveOccup      average house occupancy\n",
      "        - Latitude      house block latitude\n",
      "        - Longitude     house block longitude\n",
      "\n",
      "    :Missing Attribute Values: None\n",
      "\n",
      "This dataset was obtained from the StatLib repository.\n",
      "http://lib.stat.cmu.edu/datasets/\n",
      "\n",
      "The target variable is the median house value for California districts.\n",
      "\n",
      "This dataset was derived from the 1990 U.S. census, using one row per census\n",
      "block group. A block group is the smallest geographical unit for which the U.S.\n",
      "Census Bureau publishes sample data (a block group typically has a population\n",
      "of 600 to 3,000 people).\n",
      "\n",
      "It can be downloaded/loaded using the\n",
      ":func:`sklearn.datasets.fetch_california_housing` function.\n",
      "\n",
      ".. topic:: References\n",
      "\n",
      "    - Pace, R. Kelley and Ronald Barry, Sparse Spatial Autoregressions,\n",
      "      Statistics and Probability Letters, 33 (1997) 291-297\n",
      "\n",
      "(20640, 8)\n",
      "(20640,)\n"
     ]
    }
   ],
   "source": [
    "# 从本地保存数据文件加载数据\n",
    "with open(file='data/california_housing.pkl', mode='rb') as f:\n",
    "    housing=pickle.load(f)\n",
    "# from sklearn.datasets import fetch_california_housing\n",
    "# housing = fetch_california_housing()\n",
    "print(housing.DESCR)\n",
    "print(housing.data.shape)\n",
    "print(housing.target.shape)"
   ]
  },
  {
   "cell_type": "code",
   "execution_count": 3,
   "metadata": {},
   "outputs": [
    {
     "name": "stdout",
     "output_type": "stream",
     "text": [
      "(11610, 8) (11610,)\n",
      "(3870, 8) (3870,)\n",
      "(5160, 8) (5160,)\n"
     ]
    }
   ],
   "source": [
    "from sklearn.model_selection import train_test_split\n",
    "\n",
    "x_train_all, x_test, y_train_all, y_test = train_test_split(\n",
    "    housing.data, housing.target, random_state = 7)\n",
    "x_train, x_valid, y_train, y_valid = train_test_split(\n",
    "    x_train_all, y_train_all, random_state = 11)\n",
    "print(x_train.shape, y_train.shape)\n",
    "print(x_valid.shape, y_valid.shape)\n",
    "print(x_test.shape, y_test.shape)"
   ]
  },
  {
   "cell_type": "code",
   "execution_count": 26,
   "metadata": {},
   "outputs": [],
   "source": [
    "from sklearn.preprocessing import StandardScaler\n",
    "\n",
    "scaler = StandardScaler()\n",
    "# 此处采用fit_transform是因为，该函数可以将训练集的均值和方差记录下来，这样在验证集和测试集可以保持一致，这样也就保证了数据是同分布的，模型的构建和训练才会有效\n",
    "x_train_scaled = scaler.fit_transform(x_train)\n",
    "x_valid_scaled = scaler.transform(x_valid)\n",
    "x_test_scaled = scaler.transform(x_test)"
   ]
  },
  {
   "cell_type": "code",
   "execution_count": 27,
   "metadata": {},
   "outputs": [
    {
     "name": "stdout",
     "output_type": "stream",
     "text": [
      "Model: \"sequential_2\"\n",
      "_________________________________________________________________\n",
      "Layer (type)                 Output Shape              Param #   \n",
      "=================================================================\n",
      "wide_deep_model_6 (WideDeepM multiple                  1239      \n",
      "=================================================================\n",
      "Total params: 1,239\n",
      "Trainable params: 1,239\n",
      "Non-trainable params: 0\n",
      "_________________________________________________________________\n"
     ]
    }
   ],
   "source": [
    "# 子类API\n",
    "class WideDeepModel(keras.models.Model):\n",
    "    def __init__(self):\n",
    "        super(WideDeepModel, self).__init__()\n",
    "        \"\"\"定义模型的层次\"\"\"\n",
    "        self.hidden1_layer = keras.layers.Dense(30, activation='relu')\n",
    "        self.hidden2_layer = keras.layers.Dense(30, activation='relu')\n",
    "        self.output_layer = keras.layers.Dense(1)\n",
    "        \n",
    "    def call(self, input):\n",
    "        hidden1 = self.hidden1_layer(input)\n",
    "        hidden2 = self.hidden2_layer(hidden1)\n",
    "        concat = keras.layers.concatenate([input, hidden2])\n",
    "        output = self.output_layer(concat)\n",
    "        return output\n",
    "    \n",
    "# model = WideDeepModel()\n",
    "# 另外一种实现方式\n",
    "model = keras.models.Sequential([WideDeepModel(),])\n",
    "\n",
    "model.build(input_shape=(None, 8))\n",
    "model.summary()\n",
    "model.compile(loss=\"mean_squared_error\", optimizer=\"sgd\")\n",
    "callbacks = [keras.callbacks.EarlyStopping(patience=5, min_delta=1e-2)]"
   ]
  },
  {
   "cell_type": "code",
   "execution_count": 28,
   "metadata": {},
   "outputs": [
    {
     "name": "stdout",
     "output_type": "stream",
     "text": [
      "Epoch 1/100\n",
      "91/91 [==============================] - 0s 4ms/step - loss: 1.3012 - val_loss: 0.8776\n",
      "Epoch 2/100\n",
      "91/91 [==============================] - 0s 4ms/step - loss: 0.9605 - val_loss: 0.6767\n",
      "Epoch 3/100\n",
      "91/91 [==============================] - 0s 4ms/step - loss: 0.5970 - val_loss: 0.6137\n",
      "Epoch 4/100\n",
      "91/91 [==============================] - 0s 4ms/step - loss: 0.5406 - val_loss: 0.5667\n",
      "Epoch 5/100\n",
      "91/91 [==============================] - 0s 4ms/step - loss: 0.5074 - val_loss: 0.5387\n",
      "Epoch 6/100\n",
      "91/91 [==============================] - 0s 4ms/step - loss: 0.4832 - val_loss: 0.5112\n",
      "Epoch 7/100\n",
      "91/91 [==============================] - 0s 4ms/step - loss: 0.4702 - val_loss: 0.4937\n",
      "Epoch 8/100\n",
      "91/91 [==============================] - 0s 4ms/step - loss: 0.4554 - val_loss: 0.4792\n",
      "Epoch 9/100\n",
      "91/91 [==============================] - 0s 4ms/step - loss: 0.4464 - val_loss: 0.4702\n",
      "Epoch 10/100\n",
      "91/91 [==============================] - 0s 4ms/step - loss: 0.4423 - val_loss: 0.4643\n",
      "Epoch 11/100\n",
      "91/91 [==============================] - 0s 4ms/step - loss: 0.4314 - val_loss: 0.4538\n",
      "Epoch 12/100\n",
      "91/91 [==============================] - 0s 4ms/step - loss: 0.4265 - val_loss: 0.4448\n",
      "Epoch 13/100\n",
      "91/91 [==============================] - 0s 4ms/step - loss: 0.4199 - val_loss: 0.4399\n",
      "Epoch 14/100\n",
      "91/91 [==============================] - 0s 4ms/step - loss: 0.4137 - val_loss: 0.4363\n",
      "Epoch 15/100\n",
      "91/91 [==============================] - 0s 4ms/step - loss: 0.4119 - val_loss: 0.4328\n",
      "Epoch 16/100\n",
      "91/91 [==============================] - 0s 4ms/step - loss: 0.4091 - val_loss: 0.4279\n",
      "Epoch 17/100\n",
      "91/91 [==============================] - 0s 4ms/step - loss: 0.4036 - val_loss: 0.4243\n",
      "Epoch 18/100\n",
      "91/91 [==============================] - 0s 4ms/step - loss: 0.3988 - val_loss: 0.4181\n",
      "Epoch 19/100\n",
      "91/91 [==============================] - 0s 4ms/step - loss: 0.3975 - val_loss: 0.4140\n",
      "Epoch 20/100\n",
      "91/91 [==============================] - 0s 4ms/step - loss: 0.3946 - val_loss: 0.4132\n",
      "Epoch 21/100\n",
      "91/91 [==============================] - 0s 4ms/step - loss: 0.3932 - val_loss: 0.4063\n",
      "Epoch 22/100\n",
      "91/91 [==============================] - 0s 4ms/step - loss: 0.3923 - val_loss: 0.4041\n",
      "Epoch 23/100\n",
      "91/91 [==============================] - 0s 4ms/step - loss: 0.3828 - val_loss: 0.4068\n",
      "Epoch 24/100\n",
      "91/91 [==============================] - 0s 4ms/step - loss: 0.3835 - val_loss: 0.4033\n",
      "Epoch 25/100\n",
      "91/91 [==============================] - 0s 4ms/step - loss: 0.3824 - val_loss: 0.4010\n",
      "Epoch 26/100\n",
      "91/91 [==============================] - 0s 4ms/step - loss: 0.3769 - val_loss: 0.3932\n",
      "Epoch 27/100\n",
      "91/91 [==============================] - 0s 4ms/step - loss: 0.3742 - val_loss: 0.3930\n",
      "Epoch 28/100\n",
      "91/91 [==============================] - 0s 4ms/step - loss: 0.3715 - val_loss: 0.3958\n",
      "Epoch 29/100\n",
      "91/91 [==============================] - 0s 4ms/step - loss: 0.3725 - val_loss: 0.3917\n",
      "Epoch 30/100\n",
      "91/91 [==============================] - 0s 4ms/step - loss: 0.3714 - val_loss: 0.3915\n",
      "Epoch 31/100\n",
      "91/91 [==============================] - 0s 4ms/step - loss: 0.3672 - val_loss: 0.3870\n"
     ]
    }
   ],
   "source": [
    "# 训练的时候发现batch_size过小，会导致模型不拟合,batch_size对模型训练的影响：https://zhuanlan.zhihu.com/p/86827387\n",
    "# 重点分析一下batch_size的影响\n",
    "history = model.fit(x_train_scaled, y_train,\n",
    "                    batch_size = 128,\n",
    "                    validation_data = (x_valid_scaled, y_valid),\n",
    "                    epochs = 100,\n",
    "                    callbacks = callbacks)"
   ]
  },
  {
   "cell_type": "code",
   "execution_count": 29,
   "metadata": {},
   "outputs": [
    {
     "data": {
      "image/png": "[encoded data removed]",
      "text/plain": [
       "<matplotlib.figure.Figure at 0x7f7d9c24a588>"
      ]
     },
     "metadata": {},
     "output_type": "display_data"
    }
   ],
   "source": [
    "def plot_learning_curves(history):\n",
    "    pd.DataFrame(history.history).plot(figsize=(8, 5))\n",
    "    plt.grid(True)\n",
    "    plt.gca().set_ylim(0, 1)\n",
    "    plt.show()\n",
    "plot_learning_curves(history)"
   ]
  },
  {
   "cell_type": "code",
   "execution_count": 30,
   "metadata": {},
   "outputs": [
    {
     "name": "stdout",
     "output_type": "stream",
     "text": [
      "162/162 [==============================] - 0s 2ms/step - loss: 0.3847\n"
     ]
    },
    {
     "data": {
      "text/plain": [
       "0.38471126556396484"
      ]
     },
     "execution_count": 30,
     "metadata": {},
     "output_type": "execute_result"
    }
   ],
   "source": [
    "model.evaluate(x_test_scaled, y_test)"
   ]
  },
  {
   "cell_type": "code",
   "execution_count": null,
   "metadata": {},
   "outputs": [],
   "source": []
  }
 ],
 "metadata": {
  "kernelspec": {
   "display_name": "Python 3",
   "language": "python",
   "name": "python3"
  },
  "language_info": {
   "codemirror_mode": {
    "name": "ipython",
    "version": 3
   },
   "file_extension": ".py",
   "mimetype": "text/x-python",
   "name": "python",
   "nbconvert_exporter": "python",
   "pygments_lexer": "ipython3",
   "version": "3.6.4"
  }
 },
 "nbformat": 4,
 "nbformat_minor": 2
}
